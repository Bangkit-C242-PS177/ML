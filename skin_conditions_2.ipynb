{
 "cells": [
  {
   "cell_type": "markdown",
   "metadata": {},
   "source": [
    "# Skin Conditions Model 2\n",
    "This model is the model that used to classify user's skin conditions and have an output of multi-label class from 3 possible class (acne,eye_bags, redness)"
   ]
  },
  {
   "cell_type": "markdown",
   "metadata": {},
   "source": [
    "## Import Libraries, Mobilenet, and Env File"
   ]
  },
  {
   "cell_type": "code",
   "execution_count": 1,
   "metadata": {},
   "outputs": [],
   "source": [
    "import tensorflow as tf\n",
    "import pandas as pd\n",
    "import os\n",
    "import matplotlib.pyplot as plt\n",
    "from tensorflow.keras.applications import MobileNetV2\n",
    "from tensorflow.keras.models import Model\n",
    "from tensorflow.keras.layers import Dense, GlobalAveragePooling2D\n",
    "from tensorflow.keras.preprocessing.image import ImageDataGenerator\n",
    "import tensorflow_datasets as tfds\n",
    "import matplotlib.pyplot as plt\n",
    "import numpy as np\n",
    "import seaborn as sns\n",
    "from sklearn.metrics import multilabel_confusion_matrix, classification_report"
   ]
  },
  {
   "cell_type": "code",
   "execution_count": 7,
   "metadata": {},
   "outputs": [],
   "source": [
    "# Importing Env File\n",
    "from dotenv import load_dotenv\n",
    "\n",
    "load_dotenv()\n",
    "datasets_path = os.getenv('DATASET_PATH_CONDITIONS_2')"
   ]
  },
  {
   "cell_type": "code",
   "execution_count": 3,
   "metadata": {},
   "outputs": [],
   "source": [
    "# Importing MobileNetV2 Model With ImagNet Weight Without The Top Layer\n",
    "base_model = MobileNetV2(weights='imagenet', include_top=False, input_shape=(224, 224, 3))"
   ]
  },
  {
   "cell_type": "code",
   "execution_count": 4,
   "metadata": {},
   "outputs": [],
   "source": [
    "# Membekukan semua lapisan dari model MobileNetV2\n",
    "for layer in base_model.layers:\n",
    "    layer.trainable = False"
   ]
  },
  {
   "cell_type": "code",
   "execution_count": 5,
   "metadata": {},
   "outputs": [],
   "source": [
    "# Fine-tuning: Membuka beberapa lapisan terakhir dari MobileNetV2\n",
    "for layer in base_model.layers[-20:]:  # Mengatur lebih banyak lapisan terakhir dapat dilatih\n",
    "    layer.trainable = True"
   ]
  },
  {
   "cell_type": "markdown",
   "metadata": {},
   "source": [
    "## Import Dataset"
   ]
  },
  {
   "cell_type": "code",
   "execution_count": null,
   "metadata": {},
   "outputs": [
    {
     "name": "stderr",
     "output_type": "stream",
     "text": [
      "WARNING:absl:You use TensorFlow DType <dtype: 'float32'> in tfds.features This will soon be deprecated in favor of NumPy DTypes. In the meantime it was converted to float32.\n"
     ]
    }
   ],
   "source": [
    "import tensorflow as tf\n",
    "import tensorflow_datasets as tfds\n",
    "import pandas as pd\n",
    "import os\n",
    "from sklearn.model_selection import train_test_split\n",
    "\n",
    "class SkinConditionsDataset(tfds.core.GeneratorBasedBuilder):\n",
    "    \"\"\"DatasetBuilder for skin condition detection.\"\"\"\n",
    "\n",
    "    VERSION = tfds.core.Version('1.0.0')\n",
    "    MANUAL_DOWNLOAD_INSTRUCTIONS = \"Please ensure the skin type dataset is downloaded and located at the right path (look at env file)\"\n",
    "\n",
    "    def _info(self):\n",
    "        return tfds.core.DatasetInfo(\n",
    "            builder=self,\n",
    "            description=(\"Dataset for skin conditions classification with 2 labels: acne n eye_bags\"),\n",
    "            features=tfds.features.FeaturesDict({\n",
    "                'image': tfds.features.Image(shape=(224, 224, 3)),\n",
    "                'label': tfds.features.Tensor(shape=(3,), dtype=tf.float32),\n",
    "            }),\n",
    "            supervised_keys=('image', 'label'),\n",
    "        )\n",
    "\n",
    "    def _split_generators(self, dl_manager):\n",
    "        # Mengambil data dari path yang telah diinstruksikan\n",
    "        path = dl_manager.manual_dir\n",
    "        \n",
    "        # Membaca semua gambar dan label\n",
    "        all_data = []\n",
    "        for category in ['acne', 'eye_bags']:\n",
    "            category_path = os.path.join(path, category)\n",
    "            for filename in os.listdir(category_path):\n",
    "                all_data.append((filename, category))\n",
    "\n",
    "        # Membuat DataFrame\n",
    "        df = pd.DataFrame(all_data, columns=['filename', 'label'])\n",
    "\n",
    "        # Menyeimbangkan dataset dengan mengambil 500 sampel dari setiap kelas\n",
    "        # balanced_df = df.groupby('label').apply(lambda x: x.sample(n=500, random_state=42)).reset_index(drop=True)\n",
    "\n",
    "        # Membagi data menjadi train, val, dan test\n",
    "        # train_df, test_df = train_test_split(balanced_df, test_size=0.2, random_state=42)\n",
    "        train_df, test_df = train_test_split(df, test_size=0.2, random_state=42)\n",
    "        train_df, val_df = train_test_split(train_df, test_size=0.25, random_state=42)  # 0.25 dari train untuk validasi\n",
    "\n",
    "        return {\n",
    "            'train': self._generate_examples(train_df, path),\n",
    "            'val': self._generate_examples(val_df, path),\n",
    "            'test': self._generate_examples(test_df, path),\n",
    "        }\n",
    "\n",
    "    def _generate_examples(self, dataframe, base_path):\n",
    "        \"\"\"Yields examples.\"\"\"\n",
    "        label_map = {\n",
    "            'acne': [1, 0],\n",
    "            'eye_bags': [0, 1],\n",
    "        }\n",
    "        for _, row in dataframe.iterrows():\n",
    "            image_path = os.path.join(base_path, row['label'], row['filename'])\n",
    "            unique_key = f\"{row['label']}_{row['filename']}\"  # Unique Key To Avoid Duplicates\n",
    "            print(f\"Accessing: {image_path}\")  # Debugging print statement\n",
    "            label = label_map[row['label']]\n",
    "            yield unique_key, {  # Using Unique Key\n",
    "                'image': image_path,\n",
    "                'label': label,\n",
    "            }\n",
    "\n",
    "\n",
    "builder = SkinConditionsDataset(data_dir=datasets_path)\n",
    "builder.download_and_prepare()\n",
    "\n",
    "# Memuat dataset\n",
    "ds_train = builder.as_dataset(split='train')\n",
    "ds_val = builder.as_dataset(split='val')\n",
    "ds_test = builder.as_dataset(split='test')"
   ]
  },
  {
   "cell_type": "markdown",
   "metadata": {},
   "source": [
    "## Import Data and Data Augmentation"
   ]
  },
  {
   "cell_type": "code",
   "execution_count": 14,
   "metadata": {},
   "outputs": [],
   "source": [
    "import tensorflow as tf\n",
    "import tensorflow_datasets as tfds\n",
    "import pandas as pd\n",
    "import os\n",
    "from sklearn.model_selection import train_test_split\n",
    "import random\n",
    "\n",
    "class SkinConditionsDataset(tfds.core.GeneratorBasedBuilder):\n",
    "    \"\"\"DatasetBuilder for skin condition detection.\"\"\"\n",
    "\n",
    "    VERSION = tfds.core.Version('1.0.0')\n",
    "    MANUAL_DOWNLOAD_INSTRUCTIONS = \"Please ensure the skin type dataset is downloaded and located at the right path (look at env file)\"\n",
    "\n",
    "    def _info(self):\n",
    "        return tfds.core.DatasetInfo(\n",
    "            builder=self,\n",
    "            description=(\"Dataset for skin conditions classification with 2 labels: acne n eye_bags\"),\n",
    "            features=tfds.features.FeaturesDict({\n",
    "                'image': tfds.features.Image(shape=(224, 224, 3)),\n",
    "                'label': tfds.features.Tensor(shape=(2,), dtype=tf.float32),\n",
    "            }),\n",
    "            supervised_keys=('image', 'label'),\n",
    "        )\n",
    "\n",
    "    def _split_generators(self, dl_manager):\n",
    "        path = dl_manager.manual_dir\n",
    "        \n",
    "        # Membaca semua gambar dan label\n",
    "        all_data = []\n",
    "        for category in ['acne', 'eye_bags']:\n",
    "            category_path = os.path.join(path, category)\n",
    "            for filename in os.listdir(category_path):\n",
    "                all_data.append((filename, category))\n",
    "\n",
    "        # Membuat DataFrame\n",
    "        df = pd.DataFrame(all_data, columns=['filename', 'label'])\n",
    "\n",
    "        # Membagi data menjadi train, val, dan test\n",
    "        train_df, test_df = train_test_split(df, test_size=0.2, random_state=42)\n",
    "        train_df, val_df = train_test_split(train_df, test_size=0.25, random_state=42)  # 0.25 dari train untuk validasi\n",
    "\n",
    "        return {\n",
    "            'train': self._generate_examples(train_df, path),\n",
    "            'val': self._generate_examples(val_df, path),\n",
    "            'test': self._generate_examples(test_df, path),\n",
    "        }\n",
    "\n",
    "    def _generate_examples(self, dataframe, base_path):\n",
    "        label_map = {\n",
    "            'acne': [1, 0],\n",
    "            'eye_bags': [0, 1],\n",
    "        }\n",
    "        images_labels = []\n",
    "\n",
    "        # Load images and their labels\n",
    "        for _, row in dataframe.iterrows():\n",
    "            image_path = os.path.join(base_path, row['label'], row['filename'])\n",
    "            image = tf.io.read_file(image_path)  # Membaca file gambar\n",
    "            image = tf.io.decode_image(image, channels=3)  # Decode gambar ke tensor\n",
    "            image = tf.image.resize(image, (224, 224))  # Ubah ukuran gambar\n",
    "            image = tf.cast(image, tf.uint8)  # Konversi tipe data ke uint8\n",
    "            label = tf.cast(label_map[row['label']], tf.float32)  # Cast to float32\n",
    "            images_labels.append((image, label))  # Tambahkan ke list\n",
    "\n",
    "        # Generate standard examples\n",
    "        for i, (image, label) in enumerate(images_labels):\n",
    "            yield f\"{label.numpy()}_{i}\", {  # Mengubah label menjadi NumPy array sebelum yield\n",
    "                'image': image.numpy(),\n",
    "                'label': label.numpy(),  # Pastikan label adalah NumPy array\n",
    "            }\n",
    "\n",
    "        # Generate overlay examples\n",
    "        for i in range(0, len(images_labels), 3):  # Ambil setiap 3 gambar\n",
    "            # Ambil salah satu gambar dari 3 gambar untuk di-overlay\n",
    "            selected_images = images_labels[i:i+3]  # Mengambil 3 gambar berturut-turut\n",
    "            if len(selected_images) < 3:\n",
    "                continue  # Skip jika tidak ada cukup gambar dalam kelompok\n",
    "            \n",
    "            # Pilih satu gambar acak untuk di-overlay dengan dua lainnya\n",
    "            random.shuffle(selected_images)  # Acak gambar dalam kelompok tiga\n",
    "            image1, label1 = selected_images[0]  # Gambar pertama yang dipilih\n",
    "            image2, label2 = selected_images[1]  # Gambar kedua yang dipilih\n",
    "\n",
    "            # Buat overlay hanya dari dua gambar yang dipilih\n",
    "            combined_image, combined_label = self.overlay_two_data(image1, label1, image2, label2)\n",
    "            combined_image = tf.cast(combined_image, tf.uint8)  # Pastikan konversi ke uint8 untuk overlay\n",
    "\n",
    "            # Buat key unik untuk overlay\n",
    "            unique_key = f\"overlay_{i}_{i+1}\"\n",
    "\n",
    "            # Yield contoh baru untuk dataset\n",
    "            yield unique_key, {\n",
    "                'image': combined_image.numpy(),\n",
    "                'label': combined_label.numpy(),  # Pastikan label adalah NumPy array\n",
    "            }\n",
    "\n",
    "    # Fungsi untuk menggabungkan dua gambar\n",
    "    def overlay_two_images(self, image1, image2, alpha=0.5):\n",
    "        # Resize kedua gambar ke ukuran yang sama\n",
    "        image1 = tf.image.resize(image1, (224, 224))\n",
    "        image2 = tf.image.resize(image2, (224, 224))\n",
    "\n",
    "        # Gabungkan gambar dengan alpha untuk mengatur seberapa banyak kontribusi dari setiap gambar\n",
    "        combined_image = (image1 * alpha) + (image2 * alpha)\n",
    "\n",
    "        return combined_image\n",
    "\n",
    "    # Fungsi untuk overlay dua data (label juga digabung)\n",
    "    def overlay_two_data(self, image1, label1, image2, label2):\n",
    "        combined_image = self.overlay_two_images(image1, image2)\n",
    "        # Gabungkan label dengan mengambil nilai maksimum untuk setiap kelas\n",
    "        combined_label = tf.maximum(label1, label2)\n",
    "        return combined_image, combined_label\n",
    "\n",
    "\n",
    "# Use the updated dataset class\n",
    "builder = SkinConditionsDataset(data_dir=datasets_path)\n",
    "builder.download_and_prepare()\n",
    "\n",
    "# Memuat dataset\n",
    "ds_train = builder.as_dataset(split='train')\n",
    "ds_val = builder.as_dataset(split='val')\n",
    "ds_test = builder.as_dataset(split='test')"
   ]
  },
  {
   "cell_type": "code",
   "execution_count": 18,
   "metadata": {},
   "outputs": [],
   "source": [
    "# Memuat dataset yang sudah diproses\n",
    "ds_train = tfds.load('skin_conditions_dataset', split='train', data_dir=datasets_path)\n",
    "ds_val = tfds.load('skin_conditions_dataset', split='val', data_dir=datasets_path)\n",
    "ds_test = tfds.load('skin_conditions_dataset', split='test', data_dir=datasets_path)"
   ]
  },
  {
   "cell_type": "code",
   "execution_count": 19,
   "metadata": {},
   "outputs": [],
   "source": [
    "from tensorflow.keras.applications.mobilenet_v2 import preprocess_input\n",
    "\n",
    "# Fungsi untuk memastikan data tersusun sebagai pasangan (image, label)\n",
    "def preprocess(data):\n",
    "    image = data['image']\n",
    "    label = data['label']\n",
    "    return image, label\n",
    "\n",
    "def preprocess_image(image, label):\n",
    "    image = tf.image.resize(image, (224, 224))\n",
    "    image = preprocess_input(image)  # Preprocessing sesuai MobileNet\n",
    "    return image, label\n",
    "\n",
    "ds_train = ds_train.map(preprocess, num_parallel_calls=tf.data.experimental.AUTOTUNE)\n",
    "ds_val = ds_val.map(preprocess, num_parallel_calls=tf.data.experimental.AUTOTUNE)\n",
    "ds_test = ds_test.map(preprocess, num_parallel_calls=tf.data.experimental.AUTOTUNE)\n",
    "\n",
    "ds_train = ds_train.map(preprocess_image)\n",
    "ds_val = ds_val.map(preprocess_image)\n",
    "ds_test = ds_test.map(preprocess_image)\n",
    "\n",
    "ds_train = ds_train.batch(32).prefetch(tf.data.AUTOTUNE)\n",
    "ds_val = ds_val.batch(32).prefetch(tf.data.AUTOTUNE)\n",
    "ds_test = ds_test.batch(32).prefetch(tf.data.AUTOTUNE)"
   ]
  },
  {
   "cell_type": "code",
   "execution_count": 12,
   "metadata": {},
   "outputs": [
    {
     "name": "stdout",
     "output_type": "stream",
     "text": [
      "Jumlah gambar dan label dalam ds_train: 11\n"
     ]
    }
   ],
   "source": [
    "# Hitung jumlah data dalam ds_train\n",
    "num_samples = sum(1 for _ in ds_train)\n",
    "# num_samples = sum(1 for _ in ds_train.unbatch())\n",
    "\n",
    "print(f\"Jumlah gambar dan label dalam ds_train: {num_samples}\")\n"
   ]
  },
  {
   "cell_type": "code",
   "execution_count": 17,
   "metadata": {},
   "outputs": [
    {
     "name": "stdout",
     "output_type": "stream",
     "text": [
      "Label 2: [0. 1.]\n",
      "Label 7: [0. 1.]\n",
      "Label 9: [0. 1.]\n",
      "Label 13: [0. 1.]\n",
      "Label 16: [0. 1.]\n",
      "Label 25: [0. 1.]\n",
      "Label 30: [0. 1.]\n",
      "Label 34: [0. 1.]\n",
      "Label 37: [0. 1.]\n",
      "Label 42: [0. 1.]\n",
      "Label 47: [0. 1.]\n",
      "Label 52: [0. 1.]\n",
      "Label 56: [0. 1.]\n",
      "Label 59: [0. 1.]\n",
      "Label 64: [0. 1.]\n",
      "Label 65: [0. 1.]\n",
      "Label 69: [0. 1.]\n",
      "Label 71: [0. 1.]\n",
      "Label 72: [0. 1.]\n",
      "Label 80: [0. 1.]\n",
      "Label 82: [0. 1.]\n",
      "Label 84: [0. 1.]\n",
      "Label 86: [0. 1.]\n",
      "Label 90: [0. 1.]\n",
      "Label 91: [0. 1.]\n",
      "Label 99: [0. 1.]\n",
      "Label 100: [0. 1.]\n",
      "Label 101: [0. 1.]\n",
      "Label 114: [0. 1.]\n",
      "Label 118: [0. 1.]\n",
      "Label 120: [0. 1.]\n",
      "Label 121: [0. 1.]\n",
      "Label 123: [0. 1.]\n",
      "Label 126: [0. 1.]\n",
      "Label 127: [0. 1.]\n",
      "Label 131: [0. 1.]\n",
      "Label 133: [0. 1.]\n",
      "Label 139: [0. 1.]\n",
      "Label 141: [0. 1.]\n",
      "Label 145: [0. 1.]\n",
      "Label 146: [0. 1.]\n",
      "Label 149: [0. 1.]\n",
      "Label 151: [0. 1.]\n",
      "Label 156: [0. 1.]\n",
      "Label 161: [0. 1.]\n",
      "Label 162: [0. 1.]\n",
      "Label 163: [0. 1.]\n",
      "Label 170: [0. 1.]\n",
      "Label 178: [0. 1.]\n",
      "Label 184: [0. 1.]\n",
      "Label 189: [0. 1.]\n",
      "Label 192: [0. 1.]\n",
      "Label 195: [0. 1.]\n",
      "Label 196: [0. 1.]\n",
      "Label 205: [0. 1.]\n",
      "Label 212: [0. 1.]\n",
      "Label 216: [0. 1.]\n",
      "Label 218: [0. 1.]\n",
      "Label 221: [0. 1.]\n",
      "Label 225: [0. 1.]\n",
      "Label 229: [0. 1.]\n",
      "Label 232: [0. 1.]\n",
      "Label 239: [0. 1.]\n",
      "Label 244: [0. 1.]\n",
      "Label 248: [0. 1.]\n",
      "Label 249: [0. 1.]\n",
      "Label 250: [0. 1.]\n",
      "Label 252: [0. 1.]\n",
      "Label 254: [0. 1.]\n",
      "Label 264: [0. 1.]\n",
      "Label 270: [0. 1.]\n",
      "Label 273: [0. 1.]\n",
      "Label 275: [0. 1.]\n",
      "Label 279: [0. 1.]\n",
      "Label 283: [0. 1.]\n",
      "Label 284: [0. 1.]\n",
      "Label 286: [0. 1.]\n",
      "Label 287: [0. 1.]\n",
      "Label 294: [0. 1.]\n",
      "Label 296: [0. 1.]\n",
      "Label 298: [0. 1.]\n",
      "Label 303: [0. 1.]\n",
      "Label 305: [0. 1.]\n",
      "Label 309: [0. 1.]\n",
      "Label 310: [0. 1.]\n",
      "Label 317: [0. 1.]\n",
      "Label 319: [0. 1.]\n",
      "Label 324: [0. 1.]\n",
      "Label 325: [0. 1.]\n"
     ]
    }
   ],
   "source": [
    "# Filter dan tampilkan label dengan nilai [1. 0. 0.]\n",
    "for i, example in enumerate(ds_train):\n",
    "    label = example['label'].numpy()  # Ambil label sebagai numpy array\n",
    "    if (label == [0, 1]).all():    \n",
    "        print(f\"Label {i + 1}: {label}\")"
   ]
  },
  {
   "cell_type": "code",
   "execution_count": 40,
   "metadata": {},
   "outputs": [
    {
     "name": "stdout",
     "output_type": "stream",
     "text": [
      "Label 16: [1. 1. 0.]\n",
      "Label 21: [1. 1. 0.]\n",
      "Label 31: [1. 1. 0.]\n",
      "Label 66: [1. 1. 0.]\n",
      "Label 67: [1. 1. 0.]\n",
      "Label 70: [1. 1. 0.]\n",
      "Label 79: [1. 1. 0.]\n",
      "Label 82: [1. 1. 0.]\n",
      "Label 92: [1. 1. 0.]\n",
      "Label 96: [1. 1. 0.]\n",
      "Label 98: [1. 1. 0.]\n",
      "Label 119: [1. 1. 0.]\n",
      "Label 123: [1. 1. 0.]\n",
      "Label 149: [1. 1. 0.]\n",
      "Label 152: [1. 1. 0.]\n",
      "Label 163: [1. 1. 0.]\n"
     ]
    }
   ],
   "source": [
    "# Filter dan tampilkan label dengan nilai [1. 0. 0.]\n",
    "for i, example in enumerate(ds_val):\n",
    "    label = example['label'].numpy()  # Ambil label sebagai numpy array\n",
    "    if (label == [1, 1, 0]).all():    \n",
    "        print(f\"Label {i + 1}: {label}\")"
   ]
  },
  {
   "cell_type": "code",
   "execution_count": 37,
   "metadata": {},
   "outputs": [
    {
     "name": "stdout",
     "output_type": "stream",
     "text": [
      "Label 1: [1. 0. 1.]\n",
      "Label 6: [1. 0. 1.]\n",
      "Label 13: [1. 0. 1.]\n",
      "Label 17: [1. 0. 1.]\n",
      "Label 21: [1. 0. 1.]\n",
      "Label 24: [1. 0. 1.]\n",
      "Label 32: [1. 0. 1.]\n",
      "Label 33: [1. 0. 1.]\n",
      "Label 41: [1. 0. 1.]\n",
      "Label 42: [1. 0. 1.]\n",
      "Label 46: [1. 0. 1.]\n",
      "Label 68: [1. 0. 1.]\n",
      "Label 71: [1. 0. 1.]\n",
      "Label 97: [1. 0. 1.]\n",
      "Label 107: [1. 0. 1.]\n",
      "Label 108: [1. 0. 1.]\n",
      "Label 115: [1. 0. 1.]\n",
      "Label 119: [1. 0. 1.]\n",
      "Label 135: [1. 0. 1.]\n",
      "Label 138: [1. 0. 1.]\n",
      "Label 141: [1. 0. 1.]\n",
      "Label 147: [1. 0. 1.]\n",
      "Label 157: [1. 0. 1.]\n",
      "Label 166: [1. 0. 1.]\n",
      "Label 191: [1. 0. 1.]\n"
     ]
    }
   ],
   "source": [
    "# Filter dan tampilkan label dengan nilai [1. 0. 0.]\n",
    "for i, example in enumerate(ds_test):\n",
    "    label = example['label'].numpy()  # Ambil label sebagai numpy array\n",
    "    if (label == [1, 0, 1]).all():    \n",
    "        print(f\"Label {i + 1}: {label}\")"
   ]
  },
  {
   "cell_type": "code",
   "execution_count": 19,
   "metadata": {},
   "outputs": [],
   "source": [
    "# import matplotlib.pyplot as plt\n",
    "# import tensorflow as tf\n",
    "\n",
    "# # Fungsi untuk menampilkan gambar\n",
    "# def show_image(image):\n",
    "#     # Konversi gambar tensor ke numpy array dan tampilkan dengan matplotlib\n",
    "#     image = image.numpy()  # Ubah tensor menjadi numpy array\n",
    "#     plt.imshow(image)\n",
    "#     plt.axis('off')  # Nonaktifkan axis\n",
    "#     plt.show()\n",
    "\n",
    "# # Fungsi untuk menampilkan beberapa gambar\n",
    "# def show_images_from_dataset(dataset, num_images=5):\n",
    "#     for i, data in enumerate(dataset.take(num_images)):  # Ambil beberapa gambar pertama dari dataset\n",
    "#         image = data['image']\n",
    "#         # Tampilkan gambar\n",
    "#         show_image(image)\n",
    "\n",
    "# # Menampilkan gambar pertama dari ds_train\n",
    "# show_images_from_dataset(ds_train, num_images=5)\n"
   ]
  },
  {
   "cell_type": "code",
   "execution_count": 20,
   "metadata": {},
   "outputs": [],
   "source": [
    "from tensorflow.keras.layers import Dropout, BatchNormalization, GlobalAveragePooling2D, Dense, ReLU\n",
    "from tensorflow.keras.models import Model\n",
    "from tensorflow.keras.regularizers import l2\n",
    "\n",
    "# Menambahkan lapisan kustom di atas MobileNetV2\n",
    "x = base_model.output\n",
    "x = GlobalAveragePooling2D()(x) \n",
    "# x = Dense(1024, kernel_regularizer=l2(0.01))(x)\n",
    "# x = BatchNormalization()(x)\n",
    "# x = ReLU()(x)  # ReLU activation setelah batch normalization\n",
    "# x = Dropout(0.4)(x) \n",
    "x = Dense(512, kernel_regularizer=l2(0.01))(x)\n",
    "x = BatchNormalization()(x)\n",
    "x = ReLU()(x)  # ReLU activation setelah batch normalization\n",
    "x = Dropout(0.3)(x)\n",
    "outputs = Dense(2, activation='sigmoid', kernel_regularizer=l2(0.01))(x)  # Menggunakan sigmoid untuk multi-label classification\n",
    "\n",
    "# Membuat model akhir\n",
    "model = Model(inputs=base_model.input, outputs=outputs)\n",
    "\n",
    "# Menyesuaikan optimizer dan learning rate \n",
    "optimizer = tf.keras.optimizers.SGD(learning_rate=0.001, momentum=0.9) \n",
    "# Compiling the model \n",
    "model.compile(optimizer=optimizer, loss='binary_crossentropy', metrics=['accuracy'])"
   ]
  },
  {
   "cell_type": "code",
   "execution_count": 21,
   "metadata": {},
   "outputs": [],
   "source": [
    "from tensorflow.keras.callbacks import EarlyStopping\n",
    "from tensorflow.keras.callbacks import ReduceLROnPlateau\n",
    "\n",
    "reduce_lr = ReduceLROnPlateau(\n",
    "    monitor='val_loss', \n",
    "    factor=0.2, patience=5, \n",
    "    min_lr=0.001)\n",
    "\n",
    "early_stopping = EarlyStopping(\n",
    "    monitor='val_loss', \n",
    "    patience=6,          \n",
    "    restore_best_weights=True\n",
    ")"
   ]
  },
  {
   "cell_type": "code",
   "execution_count": 22,
   "metadata": {},
   "outputs": [
    {
     "name": "stdout",
     "output_type": "stream",
     "text": [
      "(32, 224, 224, 3) (32, 2)\n"
     ]
    }
   ],
   "source": [
    "for image, label in ds_train.take(1):\n",
    "    print(image.shape, label.shape)  # Pastikan gambar memiliki shape (32, 224, 224, 3)"
   ]
  },
  {
   "cell_type": "markdown",
   "metadata": {},
   "source": [
    "## Train Model"
   ]
  },
  {
   "cell_type": "code",
   "execution_count": null,
   "metadata": {},
   "outputs": [
    {
     "name": "stdout",
     "output_type": "stream",
     "text": [
      "Epoch 1/30\n"
     ]
    },
    {
     "name": "stdout",
     "output_type": "stream",
     "text": [
      "\u001b[1m11/11\u001b[0m \u001b[32m━━━━━━━━━━━━━━━━━━━━\u001b[0m\u001b[37m\u001b[0m \u001b[1m9s\u001b[0m 434ms/step - accuracy: 0.6343 - loss: 8.1077 - val_accuracy: 0.4732 - val_loss: 8.2078 - learning_rate: 0.0010\n",
      "Epoch 2/30\n",
      "\u001b[1m11/11\u001b[0m \u001b[32m━━━━━━━━━━━━━━━━━━━━\u001b[0m\u001b[37m\u001b[0m \u001b[1m4s\u001b[0m 342ms/step - accuracy: 0.8852 - loss: 7.5951 - val_accuracy: 0.8304 - val_loss: 7.8547 - learning_rate: 0.0010\n",
      "Epoch 3/30\n",
      "\u001b[1m11/11\u001b[0m \u001b[32m━━━━━━━━━━━━━━━━━━━━\u001b[0m\u001b[37m\u001b[0m \u001b[1m4s\u001b[0m 337ms/step - accuracy: 0.9007 - loss: 7.4444 - val_accuracy: 0.8571 - val_loss: 7.6894 - learning_rate: 0.0010\n",
      "Epoch 4/30\n",
      "\u001b[1m11/11\u001b[0m \u001b[32m━━━━━━━━━━━━━━━━━━━━\u001b[0m\u001b[37m\u001b[0m \u001b[1m4s\u001b[0m 340ms/step - accuracy: 0.9107 - loss: 7.3850 - val_accuracy: 0.8661 - val_loss: 7.5999 - learning_rate: 0.0010\n",
      "Epoch 5/30\n",
      "\u001b[1m11/11\u001b[0m \u001b[32m━━━━━━━━━━━━━━━━━━━━\u001b[0m\u001b[37m\u001b[0m \u001b[1m4s\u001b[0m 334ms/step - accuracy: 0.9340 - loss: 7.3217 - val_accuracy: 0.8661 - val_loss: 7.5361 - learning_rate: 0.0010\n",
      "Epoch 6/30\n",
      "\u001b[1m11/11\u001b[0m \u001b[32m━━━━━━━━━━━━━━━━━━━━\u001b[0m\u001b[37m\u001b[0m \u001b[1m4s\u001b[0m 331ms/step - accuracy: 0.9293 - loss: 7.2745 - val_accuracy: 0.8929 - val_loss: 7.4811 - learning_rate: 0.0010\n",
      "Epoch 7/30\n",
      "\u001b[1m11/11\u001b[0m \u001b[32m━━━━━━━━━━━━━━━━━━━━\u001b[0m\u001b[37m\u001b[0m \u001b[1m4s\u001b[0m 333ms/step - accuracy: 0.9254 - loss: 7.2285 - val_accuracy: 0.8929 - val_loss: 7.4297 - learning_rate: 0.0010\n",
      "Epoch 8/30\n",
      "\u001b[1m11/11\u001b[0m \u001b[32m━━━━━━━━━━━━━━━━━━━━\u001b[0m\u001b[37m\u001b[0m \u001b[1m4s\u001b[0m 332ms/step - accuracy: 0.9481 - loss: 7.1941 - val_accuracy: 0.9018 - val_loss: 7.3813 - learning_rate: 0.0010\n",
      "Epoch 9/30\n",
      "\u001b[1m11/11\u001b[0m \u001b[32m━━━━━━━━━━━━━━━━━━━━\u001b[0m\u001b[37m\u001b[0m \u001b[1m4s\u001b[0m 334ms/step - accuracy: 0.9498 - loss: 7.1578 - val_accuracy: 0.9018 - val_loss: 7.3359 - learning_rate: 0.0010\n",
      "Epoch 10/30\n",
      "\u001b[1m11/11\u001b[0m \u001b[32m━━━━━━━━━━━━━━━━━━━━\u001b[0m\u001b[37m\u001b[0m \u001b[1m4s\u001b[0m 335ms/step - accuracy: 0.9345 - loss: 7.1236 - val_accuracy: 0.9018 - val_loss: 7.2918 - learning_rate: 0.0010\n",
      "Epoch 11/30\n",
      "\u001b[1m11/11\u001b[0m \u001b[32m━━━━━━━━━━━━━━━━━━━━\u001b[0m\u001b[37m\u001b[0m \u001b[1m4s\u001b[0m 332ms/step - accuracy: 0.9390 - loss: 7.0892 - val_accuracy: 0.8929 - val_loss: 7.2499 - learning_rate: 0.0010\n",
      "Epoch 12/30\n",
      "\u001b[1m11/11\u001b[0m \u001b[32m━━━━━━━━━━━━━━━━━━━━\u001b[0m\u001b[37m\u001b[0m \u001b[1m4s\u001b[0m 334ms/step - accuracy: 0.9428 - loss: 7.0559 - val_accuracy: 0.8929 - val_loss: 7.2100 - learning_rate: 0.0010\n",
      "Epoch 13/30\n",
      "\u001b[1m11/11\u001b[0m \u001b[32m━━━━━━━━━━━━━━━━━━━━\u001b[0m\u001b[37m\u001b[0m \u001b[1m4s\u001b[0m 337ms/step - accuracy: 0.9337 - loss: 7.0218 - val_accuracy: 0.9018 - val_loss: 7.1715 - learning_rate: 0.0010\n",
      "Epoch 14/30\n",
      "\u001b[1m11/11\u001b[0m \u001b[32m━━━━━━━━━━━━━━━━━━━━\u001b[0m\u001b[37m\u001b[0m \u001b[1m4s\u001b[0m 332ms/step - accuracy: 0.9467 - loss: 6.9895 - val_accuracy: 0.9018 - val_loss: 7.1347 - learning_rate: 0.0010\n",
      "Epoch 15/30\n",
      "\u001b[1m11/11\u001b[0m \u001b[32m━━━━━━━━━━━━━━━━━━━━\u001b[0m\u001b[37m\u001b[0m \u001b[1m4s\u001b[0m 332ms/step - accuracy: 0.9560 - loss: 6.9564 - val_accuracy: 0.9196 - val_loss: 7.0988 - learning_rate: 0.0010\n",
      "Epoch 16/30\n",
      "\u001b[1m11/11\u001b[0m \u001b[32m━━━━━━━━━━━━━━━━━━━━\u001b[0m\u001b[37m\u001b[0m \u001b[1m4s\u001b[0m 332ms/step - accuracy: 0.9397 - loss: 6.9244 - val_accuracy: 0.9286 - val_loss: 7.0637 - learning_rate: 0.0010\n",
      "Epoch 17/30\n",
      "\u001b[1m11/11\u001b[0m \u001b[32m━━━━━━━━━━━━━━━━━━━━\u001b[0m\u001b[37m\u001b[0m \u001b[1m4s\u001b[0m 337ms/step - accuracy: 0.9345 - loss: 6.8936 - val_accuracy: 0.9286 - val_loss: 7.0297 - learning_rate: 0.0010\n",
      "Epoch 18/30\n",
      "\u001b[1m11/11\u001b[0m \u001b[32m━━━━━━━━━━━━━━━━━━━━\u001b[0m\u001b[37m\u001b[0m \u001b[1m4s\u001b[0m 337ms/step - accuracy: 0.9373 - loss: 6.8624 - val_accuracy: 0.9286 - val_loss: 6.9962 - learning_rate: 0.0010\n",
      "Epoch 19/30\n",
      "\u001b[1m11/11\u001b[0m \u001b[32m━━━━━━━━━━━━━━━━━━━━\u001b[0m\u001b[37m\u001b[0m \u001b[1m4s\u001b[0m 336ms/step - accuracy: 0.9379 - loss: 6.8353 - val_accuracy: 0.9286 - val_loss: 6.9632 - learning_rate: 0.0010\n",
      "Epoch 20/30\n",
      "\u001b[1m11/11\u001b[0m \u001b[32m━━━━━━━━━━━━━━━━━━━━\u001b[0m\u001b[37m\u001b[0m \u001b[1m4s\u001b[0m 332ms/step - accuracy: 0.9385 - loss: 6.8032 - val_accuracy: 0.9286 - val_loss: 6.9304 - learning_rate: 0.0010\n",
      "Epoch 21/30\n",
      "\u001b[1m11/11\u001b[0m \u001b[32m━━━━━━━━━━━━━━━━━━━━\u001b[0m\u001b[37m\u001b[0m \u001b[1m4s\u001b[0m 338ms/step - accuracy: 0.9537 - loss: 6.7718 - val_accuracy: 0.9286 - val_loss: 6.8983 - learning_rate: 0.0010\n",
      "Epoch 22/30\n",
      "\u001b[1m11/11\u001b[0m \u001b[32m━━━━━━━━━━━━━━━━━━━━\u001b[0m\u001b[37m\u001b[0m \u001b[1m4s\u001b[0m 333ms/step - accuracy: 0.9567 - loss: 6.7408 - val_accuracy: 0.9286 - val_loss: 6.8666 - learning_rate: 0.0010\n",
      "Epoch 23/30\n",
      "\u001b[1m11/11\u001b[0m \u001b[32m━━━━━━━━━━━━━━━━━━━━\u001b[0m\u001b[37m\u001b[0m \u001b[1m4s\u001b[0m 336ms/step - accuracy: 0.9502 - loss: 6.7101 - val_accuracy: 0.9286 - val_loss: 6.8352 - learning_rate: 0.0010\n",
      "Epoch 24/30\n",
      "\u001b[1m11/11\u001b[0m \u001b[32m━━━━━━━━━━━━━━━━━━━━\u001b[0m\u001b[37m\u001b[0m \u001b[1m4s\u001b[0m 332ms/step - accuracy: 0.9555 - loss: 6.6808 - val_accuracy: 0.9286 - val_loss: 6.8040 - learning_rate: 0.0010\n",
      "Epoch 25/30\n",
      "\u001b[1m11/11\u001b[0m \u001b[32m━━━━━━━━━━━━━━━━━━━━\u001b[0m\u001b[37m\u001b[0m \u001b[1m4s\u001b[0m 333ms/step - accuracy: 0.9570 - loss: 6.6519 - val_accuracy: 0.9196 - val_loss: 6.7732 - learning_rate: 0.0010\n",
      "Epoch 26/30\n",
      "\u001b[1m11/11\u001b[0m \u001b[32m━━━━━━━━━━━━━━━━━━━━\u001b[0m\u001b[37m\u001b[0m \u001b[1m4s\u001b[0m 339ms/step - accuracy: 0.9273 - loss: 6.6222 - val_accuracy: 0.9196 - val_loss: 6.7424 - learning_rate: 0.0010\n",
      "Epoch 27/30\n",
      "\u001b[1m11/11\u001b[0m \u001b[32m━━━━━━━━━━━━━━━━━━━━\u001b[0m\u001b[37m\u001b[0m \u001b[1m4s\u001b[0m 337ms/step - accuracy: 0.9478 - loss: 6.5922 - val_accuracy: 0.9286 - val_loss: 6.7117 - learning_rate: 0.0010\n",
      "Epoch 28/30\n",
      "\u001b[1m11/11\u001b[0m \u001b[32m━━━━━━━━━━━━━━━━━━━━\u001b[0m\u001b[37m\u001b[0m \u001b[1m4s\u001b[0m 336ms/step - accuracy: 0.9327 - loss: 6.5631 - val_accuracy: 0.9286 - val_loss: 6.6814 - learning_rate: 0.0010\n",
      "Epoch 29/30\n",
      "\u001b[1m11/11\u001b[0m \u001b[32m━━━━━━━━━━━━━━━━━━━━\u001b[0m\u001b[37m\u001b[0m \u001b[1m4s\u001b[0m 342ms/step - accuracy: 0.9501 - loss: 6.5345 - val_accuracy: 0.9286 - val_loss: 6.6513 - learning_rate: 0.0010\n",
      "Epoch 30/30\n",
      "\u001b[1m11/11\u001b[0m \u001b[32m━━━━━━━━━━━━━━━━━━━━\u001b[0m\u001b[37m\u001b[0m \u001b[1m4s\u001b[0m 347ms/step - accuracy: 0.9356 - loss: 6.5052 - val_accuracy: 0.9286 - val_loss: 6.6215 - learning_rate: 0.0010\n"
     ]
    },
    {
     "data": {
      "image/png": "[encoded data removed]",
      "text/plain": [
       "<Figure size 1200x600 with 2 Axes>"
      ]
     },
     "metadata": {},
     "output_type": "display_data"
    },
    {
     "name": "stdout",
     "output_type": "stream",
     "text": [
      "\u001b[1m4/4\u001b[0m \u001b[32m━━━━━━━━━━━━━━━━━━━━\u001b[0m\u001b[37m\u001b[0m \u001b[1m1s\u001b[0m 205ms/step - accuracy: 0.9079 - loss: 6.6830\n",
      "Testing Loss: 6.6881632804870605, Testing Accuracy: 0.9285714030265808\n"
     ]
    }
   ],
   "source": [
    "# class_weight = {0: 0.85, 1: 1.2}  # Sesuaikan bobot berdasarkan kinerja kelas\n",
    "\n",
    "# Melatih model dan mencatat hasil pelatihan dalam objek `history`\n",
    "history = model.fit(\n",
    "    ds_train,\n",
    "    validation_data=ds_val,\n",
    "    epochs=30,\n",
    "    # class_weight=class_weight,\n",
    "    callbacks=[early_stopping, reduce_lr]\n",
    ")\n",
    "\n",
    "# Menampilkan metrik dengan matplotlib\n",
    "accuracy = history.history['accuracy']\n",
    "val_accuracy = history.history['val_accuracy']\n",
    "loss = history.history['loss']\n",
    "val_loss = history.history['val_loss']\n",
    "\n",
    "epochs_range = range(len(accuracy))\n",
    "\n",
    "plt.figure(figsize=(12, 6))\n",
    "plt.subplot(1, 2, 1)\n",
    "plt.plot(epochs_range, accuracy, label='Training Accuracy')\n",
    "plt.plot(epochs_range, val_accuracy, label='Validation Accuracy')\n",
    "plt.legend(loc='lower right')\n",
    "plt.title('Training and Validation Accuracy')\n",
    "\n",
    "plt.subplot(1, 2, 2)\n",
    "plt.plot(epochs_range, loss, label='Training Loss')\n",
    "plt.plot(epochs_range, val_loss, label='Validation Loss')\n",
    "plt.legend(loc='upper right')\n",
    "plt.title('Training and Validation Loss')\n",
    "plt.show()\n",
    "\n",
    "# Evaluasi model pada data testing\n",
    "loss, accuracy = model.evaluate(ds_test)\n",
    "print(f'Testing Loss: {loss}, Testing Accuracy: {accuracy}')\n"
   ]
  },
  {
   "cell_type": "code",
   "execution_count": 24,
   "metadata": {},
   "outputs": [
    {
     "data": {
      "image/png": "[encoded data removed]",
      "text/plain": [
       "<Figure size 1000x600 with 1 Axes>"
      ]
     },
     "metadata": {},
     "output_type": "display_data"
    }
   ],
   "source": [
    "# Ambil nilai akurasi pada epoch terakhir\n",
    "final_train_accuracy = history.history['accuracy'][-1]\n",
    "final_val_accuracy = history.history['val_accuracy'][-1]\n",
    "\n",
    "# Akurasi data testing (sudah didapat dari evaluasi model sebelumnya)\n",
    "test_accuracy = accuracy\n",
    "\n",
    "# Buat bar chart\n",
    "labels = ['Training Accuracy', 'Validation Accuracy', 'Testing Accuracy']\n",
    "accuracies = [final_train_accuracy, final_val_accuracy, test_accuracy]\n",
    "\n",
    "plt.figure(figsize=(10, 6))\n",
    "plt.bar(labels, accuracies, color=['blue', 'orange', 'green'])\n",
    "plt.ylim(0, 1)  # Atur batas y dari 0 sampai 1\n",
    "plt.xlabel('Metrics')\n",
    "plt.ylabel('Accuracy')\n",
    "plt.title('Model Accuracies')\n",
    "plt.show()"
   ]
  },
  {
   "cell_type": "markdown",
   "metadata": {},
   "source": [
    "## Importing Model (If Exist)"
   ]
  },
  {
   "cell_type": "code",
   "execution_count": null,
   "metadata": {},
   "outputs": [
    {
     "name": "stderr",
     "output_type": "stream",
     "text": [
      "WARNING:absl:Compiled the loaded model, but the compiled metrics have yet to be built. `model.compile_metrics` will be empty until you train or evaluate the model.\n"
     ]
    }
   ],
   "source": [
    "from tensorflow.keras.models import load_model\n",
    "\n",
    "# load model from .h5 file\n",
    "model = load_model('models/skin_conditions_model_2.h5')"
   ]
  },
  {
   "cell_type": "code",
   "execution_count": 27,
   "metadata": {},
   "outputs": [
    {
     "name": "stdout",
     "output_type": "stream",
     "text": [
      "\u001b[1m4/4\u001b[0m \u001b[32m━━━━━━━━━━━━━━━━━━━━\u001b[0m\u001b[37m\u001b[0m \u001b[1m1s\u001b[0m 197ms/step\n"
     ]
    },
    {
     "data": {
      "image/png": "[encoded data removed]",
      "text/plain": [
       "<Figure size 1000x700 with 2 Axes>"
      ]
     },
     "metadata": {},
     "output_type": "display_data"
    },
    {
     "data": {
      "image/png": "[encoded data removed]",
      "text/plain": [
       "<Figure size 1000x700 with 2 Axes>"
      ]
     },
     "metadata": {},
     "output_type": "display_data"
    },
    {
     "name": "stdout",
     "output_type": "stream",
     "text": [
      "              precision    recall  f1-score   support\n",
      "\n",
      "        Acne       0.96      0.97      0.97        78\n",
      "    Eye Bags       0.95      0.79      0.86        48\n",
      "\n",
      "   micro avg       0.96      0.90      0.93       126\n",
      "   macro avg       0.96      0.88      0.92       126\n",
      "weighted avg       0.96      0.90      0.93       126\n",
      " samples avg       0.96      0.93      0.93       126\n",
      "\n"
     ]
    },
    {
     "name": "stderr",
     "output_type": "stream",
     "text": [
      "c:\\Users\\albia\\AppData\\Local\\Programs\\Python\\Python312\\Lib\\site-packages\\sklearn\\metrics\\_classification.py:1509: UndefinedMetricWarning: Precision is ill-defined and being set to 0.0 in samples with no predicted labels. Use `zero_division` parameter to control this behavior.\n",
      "  _warn_prf(average, modifier, f\"{metric.capitalize()} is\", len(result))\n"
     ]
    }
   ],
   "source": [
    "# Membuat prediksi pada data testing\n",
    "y_pred = model.predict(ds_test)\n",
    "y_pred_binary = (y_pred > 0.5).astype(int)  # Mengubah prediksi menjadi biner\n",
    "\n",
    "# Mendapatkan label aktual\n",
    "y_true = np.concatenate([y for x, y in ds_test], axis=0)\n",
    "\n",
    "# Menghitung multilabel confusion matrix\n",
    "cm = multilabel_confusion_matrix(y_true, y_pred_binary)\n",
    "\n",
    "# Menampilkan confusion matrix untuk masing-masing label\n",
    "labels = ['Acne', 'Eye Bags']\n",
    "for i, label in enumerate(labels):\n",
    "    plt.figure(figsize=(10, 7))\n",
    "    sns.heatmap(cm[i], annot=True, fmt='d', cmap='Blues', xticklabels=['Negative', 'Positive'], yticklabels=['Negative', 'Positive'])\n",
    "    plt.xlabel('Predicted')\n",
    "    plt.ylabel('True')\n",
    "    plt.title(f'Confusion Matrix for {label}')\n",
    "    plt.show()\n",
    "\n",
    "# Menampilkan laporan klasifikasi\n",
    "print(classification_report(y_true, y_pred_binary, target_names=labels))\n"
   ]
  },
  {
   "cell_type": "code",
   "execution_count": null,
   "metadata": {},
   "outputs": [
    {
     "name": "stderr",
     "output_type": "stream",
     "text": [
      "WARNING:absl:You are saving your model as an HDF5 file via `model.save()` or `keras.saving.save_model(model)`. This file format is considered legacy. We recommend using instead the native Keras format, e.g. `model.save('my_model.keras')` or `keras.saving.save_model(model, 'my_model.keras')`. \n"
     ]
    }
   ],
   "source": [
    "# Saving the model in .h5 format\n",
    "model.save('models/skin_conditions_model_2.h5')"
   ]
  }
 ],
 "metadata": {
  "kernelspec": {
   "display_name": "Python 3",
   "language": "python",
   "name": "python3"
  },
  "language_info": {
   "codemirror_mode": {
    "name": "ipython",
    "version": 3
   },
   "file_extension": ".py",
   "mimetype": "text/x-python",
   "name": "python",
   "nbconvert_exporter": "python",
   "pygments_lexer": "ipython3",
   "version": "3.12.0"
  }
 },
 "nbformat": 4,
 "nbformat_minor": 2
}
